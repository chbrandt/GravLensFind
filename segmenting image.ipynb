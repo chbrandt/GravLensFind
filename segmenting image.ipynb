{
 "cells": [
  {
   "cell_type": "markdown",
   "metadata": {},
   "source": [
    "# Searching for objects in mock images from the ArcsFinding Challenge\n",
    "\n",
    "The challenge is proposed by the Bologna group, http://metcalf1.bo.astro.it/blf-portal/gg_challenge.html .\n",
    "\n",
    "I have here, now, a small set of images to play with. And I will choose one to scratch the problem."
   ]
  },
  {
   "cell_type": "code",
   "execution_count": null,
   "metadata": {},
   "outputs": [],
   "source": [
    "ls data"
   ]
  },
  {
   "cell_type": "code",
   "execution_count": null,
   "metadata": {
    "collapsed": true
   },
   "outputs": [],
   "source": [
    "# filename = 'data/imageEUC_VIS-100003.fits'\n",
    "filename = 'data/imageEUC_VIS-100003.fits'"
   ]
  },
  {
   "cell_type": "markdown",
   "metadata": {},
   "source": [
    "Load some libraries..."
   ]
  },
  {
   "cell_type": "code",
   "execution_count": null,
   "metadata": {
    "collapsed": true
   },
   "outputs": [],
   "source": [
    "import astropy\n",
    "import skimage\n",
    "# import mahotas\n",
    "import pandas\n",
    "import numpy\n",
    "#import booq\n",
    "\n",
    "np = numpy\n",
    "\n",
    "pandas.set_option('display.max_columns',10)\n",
    "pandas.set_option('display.width',100)"
   ]
  },
  {
   "cell_type": "code",
   "execution_count": null,
   "metadata": {
    "collapsed": true
   },
   "outputs": [],
   "source": [
    "%matplotlib notebook\n",
    "import matplotlib.pyplot as plt"
   ]
  },
  {
   "cell_type": "code",
   "execution_count": null,
   "metadata": {
    "collapsed": true
   },
   "outputs": [],
   "source": [
    "from astropy.io import fits\n",
    "img = fits.open(filename)[0].data\n",
    "del filename"
   ]
  },
  {
   "cell_type": "code",
   "execution_count": null,
   "metadata": {},
   "outputs": [],
   "source": [
    "plt.imshow(img)#,cmap='Blues_r')"
   ]
  },
  {
   "cell_type": "markdown",
   "metadata": {},
   "source": [
    "### Intensity distribution"
   ]
  },
  {
   "cell_type": "code",
   "execution_count": null,
   "metadata": {
    "collapsed": true
   },
   "outputs": [],
   "source": [
    "def simple(hist,bins,vmarks=[],log=False,xlabel='X',ylabel='#', ax=None):\n",
    "    \"\"\"\n",
    "    Plot histogram with vertical line marks\n",
    "\n",
    "    Output:\n",
    "     - plt  : pyplot object. plt.show() will give you the histogram.\n",
    "\n",
    "    \"\"\"\n",
    "    from matplotlib import pyplot as plt\n",
    "    if ax is None:\n",
    "        fig,ax = plt.subplots()\n",
    "    else:\n",
    "        ax = plt\n",
    "    width = 0.7*(bins[1]-bins[0])\n",
    "    centers = (bins[:-1]+bins[1:])/2.\n",
    "    ax.grid(True)\n",
    "    ax.bar(centers, hist, width=width, align='center', color='g', log=log, alpha=0.9)\n",
    "    try:\n",
    "        ax.set_xlabel(xlabel)\n",
    "        ax.set_ylabel(ylabel)\n",
    "    except:\n",
    "        ax.xlabel(xlabel)\n",
    "        ax.ylabel(ylabel)\n",
    "\n",
    "    ymax = hist.max()*1.01\n",
    "    ymin = -ymax/50.\n",
    "\n",
    "    for i,iv in enumerate(vmarks):\n",
    "        ymaxn = ymax + i%2*(ymin*2)\n",
    "        ax.vlines(iv,ymin,ymaxn,color='r')\n",
    "        ax.text(iv,ymaxn,\"%.1f\"%(iv))\n",
    "\n",
    "    return ax\n",
    "\n",
    "def imhist(img,bins=100,vmarks=[],log=False,xlabel='X',ylabel='#', ax=None):\n",
    "    \"\"\"\n",
    "    Plot histogram from image array\n",
    "    #TODO This function should not remain here.\n",
    "    \n",
    "    Output:\n",
    "     - plt  : pyplot object. plt.show() will give you the histogram.\n",
    "    \n",
    "    \"\"\"\n",
    "    \n",
    "    hist,bins = np.histogram(img.flatten(),bins=bins,normed=True)\n",
    "    \n",
    "    return simple(hist,bins,vmarks,log,xlabel,ylabel,ax)"
   ]
  },
  {
   "cell_type": "code",
   "execution_count": null,
   "metadata": {},
   "outputs": [],
   "source": [
    "_ = imhist(img)"
   ]
  },
  {
   "cell_type": "code",
   "execution_count": null,
   "metadata": {
    "collapsed": true
   },
   "outputs": [],
   "source": [
    "def normalize(img,unit=1):\n",
    "    \"\"\"\n",
    "    Normalize 'img' to 'unit'\n",
    "    \"\"\"\n",
    "    \n",
    "    return unit * (img - img.min())/(img.max() - img.min())\n",
    "\n",
    "img = normalize(img)"
   ]
  },
  {
   "cell_type": "code",
   "execution_count": null,
   "metadata": {},
   "outputs": [],
   "source": [
    "fig, axes = plt.subplots(ncols=2, figsize=(10, 3), sharex=False, sharey=False,\n",
    "                         subplot_kw={'adjustable': 'box-forced'})\n",
    "ax = axes.ravel()\n",
    "\n",
    "ax[0].imshow(img, interpolation='nearest')\n",
    "ax[0].set_title('Image normalized')\n",
    "_ = imhist(img,ax=ax[1])\n",
    "ax[1].set_title('Image normalized intensity histogram')\n",
    "\n",
    "fig.tight_layout()\n",
    "plt.show()"
   ]
  },
  {
   "cell_type": "markdown",
   "metadata": {},
   "source": [
    "## Pre-processing"
   ]
  },
  {
   "cell_type": "markdown",
   "metadata": {},
   "source": [
    "### Entropy"
   ]
  },
  {
   "cell_type": "code",
   "execution_count": null,
   "metadata": {},
   "outputs": [],
   "source": [
    "from skimage.morphology import disk\n",
    "from skimage.filters.rank import entropy\n",
    "\n",
    "img_entr = entropy(img,disk(4))\n",
    "img_entr = normalize(img_entr)\n",
    "plt.imshow(img_entr)"
   ]
  },
  {
   "cell_type": "code",
   "execution_count": null,
   "metadata": {
    "collapsed": true
   },
   "outputs": [],
   "source": [
    "def equal(img,nbins=1000,savefig=True,figname='hist_equal.png'):\n",
    "    \"\"\"\n",
    "    Equalizes given image histogram\n",
    "    \n",
    "    Input:\n",
    "     - img ndarray : Image array\n",
    "     - nbins int : Number of bins to use for equalization\n",
    "    \n",
    "    Output:\n",
    "     - img_eq  ndarray : Image array equalized\n",
    "    \n",
    "    ---\n",
    "    \"\"\"\n",
    "    \n",
    "    imhist,bins = np.histogram(img.flatten(),nbins,normed=True)\n",
    "    cdf = np.cumsum(imhist)\n",
    "    cdf = cdf/cdf[-1]\n",
    "    imgterp = np.interp(img.flatten(),bins[:-1],cdf)\n",
    "    img_eq = imgterp.reshape(img.shape)\n",
    "    \n",
    "    return img_eq;\n",
    "\n",
    "# img_entr = equal(img_entr)"
   ]
  },
  {
   "cell_type": "code",
   "execution_count": null,
   "metadata": {},
   "outputs": [],
   "source": [
    "fig, axes = plt.subplots(ncols=2, figsize=(10, 3), sharex=False, sharey=False,\n",
    "                         subplot_kw={'adjustable': 'box-forced'})\n",
    "ax = axes.ravel()\n",
    "\n",
    "ax[0].imshow(img_entr, interpolation='nearest')\n",
    "ax[0].set_title('Image entropy')\n",
    "_ = imhist(img_entr,ax=ax[1])\n",
    "ax[1].set_title('Image entropy intensity histogram')\n",
    "\n",
    "fig.tight_layout()\n",
    "plt.show()"
   ]
  },
  {
   "cell_type": "code",
   "execution_count": null,
   "metadata": {},
   "outputs": [],
   "source": [
    "def func_gauss(t, a, b, k):\n",
    "    from numpy import exp\n",
    "    return a * exp(-b*(t-k)**2)\n",
    "\n",
    "def fit_curve(x,y,fit_func):\n",
    "    from numpy import linspace\n",
    "    from scipy.optimize import curve_fit\n",
    "\n",
    "    popt,pcov = curve_fit(fit_func, x, y)\n",
    "    x = linspace(x.min(),x.max(),100)\n",
    "    y = fit_func(x,*popt)\n",
    "    return x,y,popt\n",
    "\n",
    "import numpy as np\n",
    "hist,bins = np.histogram(img_entr.flatten(),bins=100,normed=True)\n",
    "\n",
    "x_fit, y_fit, popt = fit_curve( bins[:-1], hist, func_gauss )\n",
    "\n",
    "# plt.plot( x_fit, y_fit, linestyle='solid', color='red', lw=1 )\n",
    "# plt.plot( bins[:-1], hist, linestyle='solid', color='red', lw=1 )\n",
    "\n",
    "fig, axes = plt.subplots(ncols=2, figsize=(10, 3), sharex=False, sharey=False,\n",
    "                         subplot_kw={'adjustable': 'box-forced'})\n",
    "ax = axes.ravel()\n",
    "\n",
    "ax[0].imshow(img_entr, interpolation='nearest')\n",
    "ax[0].set_title('Image entropy')\n",
    "_ = imhist(img_entr,ax=ax[1])\n",
    "ax[1].set_title('Image entropy intensity histogram')\n",
    "ax[1].plot( x_fit, y_fit, linestyle='solid', color='red', lw=1 )\n",
    "fig.tight_layout()\n",
    "plt.show()"
   ]
  },
  {
   "cell_type": "code",
   "execution_count": null,
   "metadata": {},
   "outputs": [],
   "source": [
    "# Now I want to subtract the gaussian from histogram\n",
    "gauss_disc = func_gauss(bins[:-1],*popt)\n",
    "\n",
    "_diff = hist-gauss_disc\n",
    "_ = simple(_diff,bins)"
   ]
  },
  {
   "cell_type": "code",
   "execution_count": null,
   "metadata": {},
   "outputs": [],
   "source": [
    "_diff[np.where(_diff<0)] = 0\n",
    "cdf = np.cumsum(_diff)\n",
    "cdf = cdf/cdf[-1]\n",
    "imgterp = np.interp(img_entr.flatten(),bins[:-1],cdf)\n",
    "img_eq = imgterp.reshape(img_entr.shape)\n",
    "\n",
    "fig, axes = plt.subplots(ncols=2, figsize=(10, 3), sharex=False, sharey=False,\n",
    "                         subplot_kw={'adjustable': 'box-forced'})\n",
    "ax = axes.ravel()\n",
    "\n",
    "ax[0].imshow(img_eq, interpolation='nearest')\n",
    "ax[0].set_title('Image entropy')\n",
    "_ = imhist(img_eq,ax=ax[1])\n",
    "ax[1].set_title('Image entropy intensity histogram')\n",
    "\n",
    "fig.tight_layout()\n",
    "plt.show()"
   ]
  },
  {
   "cell_type": "code",
   "execution_count": null,
   "metadata": {},
   "outputs": [],
   "source": [
    "def grad(img):\n",
    "    \"\"\"\n",
    "    Return image gradiente (module^2) array\n",
    "    \"\"\"\n",
    "    gx,gy = np.gradient(img)\n",
    "    grad_img = gx**2 + gy**2\n",
    "    return grad_img\n",
    "\n",
    "from matplotlib import cm\n",
    "def prof_33D(img):\n",
    "    from mpl_toolkits.mplot3d import Axes3D\n",
    "    \n",
    "    x,y = img.shape\n",
    "    x = np.arange(0,x)\n",
    "    y = np.arange(0,y)\n",
    "    X,Y = np.meshgrid(x,y)\n",
    "    extent = (X.min(), X.max(), Y.min(), Y.max())\n",
    "    \n",
    "    # Twice as wide as it is tall.\n",
    "    fig = plt.figure(figsize=plt.figaspect(0.5))\n",
    "    \n",
    "    S = np.log10(img+1)\n",
    "    s_min = S.min()\n",
    "    s_max = S.max()\n",
    "    ds = (s_max-s_min)/20\n",
    "    \n",
    "    Z = grad(img)**2\n",
    "    Z = np.log10(np.sqrt(Z)+1)\n",
    "    z_min = Z.min()\n",
    "    z_max = Z.max()\n",
    "    dz = (z_max-z_min)/20\n",
    "    \n",
    "    #---- First subplot - 3D\n",
    "    ax = fig.add_subplot(2, 2, 1, projection='3d')    \n",
    "    surf = ax.plot_surface(X, Y, S, rstride=1, cstride=1, cmap=cm.jet, linewidth=0, antialiased=False)\n",
    "    ax.set_zlim3d(s_min-ds, s_max+ds)\n",
    "    ax.set_title('Arc (HST) surface')\n",
    "    \n",
    "    #---- Second subplot - 2D\n",
    "    ax = fig.add_subplot(2, 2, 2)\n",
    "    #ax.imshow(S[::-1,:],extent=extent)\n",
    "    ax.imshow(S,extent=extent)\n",
    "    ax.set_xlabel('X')\n",
    "    ax.set_ylabel('Y')\n",
    "    #fig.colorbar(surf, shrink=0.5, aspect=5)    \n",
    "    \n",
    "\n",
    "    #---- First subplot\n",
    "    ax = fig.add_subplot(2, 2, 3, projection='3d')    \n",
    "    surf = ax.plot_surface(X, Y, Z, rstride=1, cstride=1, cmap=cm.jet, linewidth=0, antialiased=False)\n",
    "    ax.set_zlim3d(z_min-dz, z_max+dz)\n",
    "    ax.set_title('Arc surface gradient')\n",
    "\n",
    "    #---- Second subplot\n",
    "    ax = fig.add_subplot(2, 2, 4)\n",
    "    #ax.imshow(Z[::-1,:],extent=extent)\n",
    "    ax.imshow(Z,extent=extent)\n",
    "    ax.set_xlabel('X')\n",
    "    ax.set_ylabel('Y')\n",
    "\n",
    "\n",
    "    return plt\n",
    "\n",
    "_ = prof_33D(img_eq)"
   ]
  },
  {
   "cell_type": "markdown",
   "metadata": {},
   "source": [
    "### Smoothing"
   ]
  },
  {
   "cell_type": "code",
   "execution_count": null,
   "metadata": {
    "collapsed": true
   },
   "outputs": [],
   "source": [
    "def gaussian(img, sigma=[3,3]):\n",
    "    \"\"\"\n",
    "    Simple gaussian filter\n",
    "    \n",
    "    Input:\n",
    "     - img <ndarray>\n",
    "     - sigma <[int,int]> : sigma window\n",
    "    \n",
    "    Output:\n",
    "     - <ndarray>\n",
    "    \n",
    "    ---\n",
    "    \"\"\"\n",
    "    import scipy.ndimage as ndi\n",
    "    return ndi.gaussian_filter(img,sigma);\n",
    "\n",
    "img_smooth = gaussian(img,[2,2])"
   ]
  },
  {
   "cell_type": "code",
   "execution_count": null,
   "metadata": {},
   "outputs": [],
   "source": [
    "fig, axes = plt.subplots(ncols=2, figsize=(10, 3), sharex=False, sharey=False,\n",
    "                         subplot_kw={'adjustable': 'box-forced'})\n",
    "ax = axes.ravel()\n",
    "\n",
    "ax[0].imshow(img_smooth, interpolation='nearest')\n",
    "ax[0].set_title('Image smooth')\n",
    "_ = imhist(img_smooth,ax=ax[1])\n",
    "ax[1].set_title('Image smooth intensity histogram')\n",
    "\n",
    "fig.tight_layout()\n",
    "plt.show()"
   ]
  },
  {
   "cell_type": "code",
   "execution_count": null,
   "metadata": {
    "collapsed": true
   },
   "outputs": [],
   "source": [
    "# Thresholding\n",
    "def histmax(img):\n",
    "    \"\"\"\n",
    "    Maximum histogram value for threshold estimation\n",
    "    \"\"\"\n",
    "    np = numpy\n",
    "    \n",
    "    nbins=1000\n",
    "    imhist,bins = np.histogram(img.flatten(),nbins,normed=True);\n",
    "\n",
    "    return bins[np.argmax(imhist)] + np.std(img)\n",
    "\n",
    "# --\n",
    "\n",
    "# def riddler_calvard(img):\n",
    "#     \"\"\"\n",
    "#     Riddler-Calvard method for image thrashold (fg|bg) estimation\n",
    "#     \"\"\"\n",
    "#     import mahotas\n",
    "    \n",
    "#     return mahotas.thresholding.rc(img)\n",
    "\n",
    "# --\n",
    "\n",
    "# def otsu(img):\n",
    "#     \"\"\"\n",
    "#     Otsu method for image thrashold (fg|bg) estimation\n",
    "#     \"\"\"\n",
    "#     import mahotas\n",
    "    \n",
    "#     return mahotas.thresholding.otsu(img)\n",
    "\n",
    "def float2uint(img):\n",
    "    \"\"\"\n",
    "    Normalize and truncate 'img' values to uint8 scale [0:255]\n",
    "    \"\"\"\n",
    "    np = numpy;\n",
    "    \n",
    "    img = normalize(img) * 255.\n",
    "    u_img = img.astype(np.uint8)\n",
    "    \n",
    "    return u_img"
   ]
  },
  {
   "cell_type": "code",
   "execution_count": null,
   "metadata": {},
   "outputs": [],
   "source": [
    "_img = img\n",
    "th_mx = histmax(_img[np.where(_img)])\n",
    "img_uint8 = float2uint(_img)\n",
    "# th_rc = float(riddler_calvard(img_uint8) - img_uint8.min())/(img_uint8.max()-img_uint8.min())\n",
    "# th_ot = float(otsu(img_uint8) - img_uint8.min())/(img_uint8.max()-img_uint8.min())\n",
    "# print ' Histmax: {}\\n R.Calvard: {}\\n Otsu: {}'.format(th_mx,th_rc,th_ot)\n",
    "# th_mean = (th_mx*0.7+th_rc*0.15+th_ot*0.15)\n",
    "th_mean = (th_mx)\n",
    "print 'Mean: {}'.format(th_mean)"
   ]
  },
  {
   "cell_type": "markdown",
   "metadata": {},
   "source": [
    "### Finding contours"
   ]
  },
  {
   "cell_type": "code",
   "execution_count": null,
   "metadata": {},
   "outputs": [],
   "source": [
    "from skimage import measure\n",
    "contours = measure.find_contours(img_smooth,th_mx)\n",
    "\n",
    "fig, ax = plt.subplots()\n",
    "ax.imshow(img_smooth, interpolation='nearest', cmap=plt.cm.gray)\n",
    "\n",
    "for n, contour in enumerate(contours):\n",
    "    ax.plot(contour[:, 1], contour[:, 0], linewidth=2, color='red')\n",
    "\n",
    "ax.axis('image')\n",
    "ax.set_xticks([])\n",
    "ax.set_yticks([])\n",
    "plt.show()"
   ]
  },
  {
   "cell_type": "markdown",
   "metadata": {},
   "source": [
    "### Finding local maxima"
   ]
  },
  {
   "cell_type": "code",
   "execution_count": null,
   "metadata": {},
   "outputs": [],
   "source": [
    "from skimage.feature import peak_local_max\n",
    "local_maxi = peak_local_max(img_smooth, min_distance=2, exclude_border=False, indices=False)\n",
    "\n",
    "fig, ax = plt.subplots()\n",
    "ax.imshow(local_maxi, cmap=plt.cm.gray)\n",
    "\n",
    "for n, contour in enumerate(contours):\n",
    "    ax.plot(contour[:, 1], contour[:, 0], linewidth=2, color='red')\n",
    "\n",
    "ax.axis('image')\n",
    "ax.set_xticks([])\n",
    "ax.set_yticks([])\n",
    "plt.show()"
   ]
  },
  {
   "cell_type": "code",
   "execution_count": null,
   "metadata": {
    "collapsed": true
   },
   "outputs": [],
   "source": [
    "def create_mask(img,contours):\n",
    "    def define_regions(contours):\n",
    "        '''\n",
    "        Return a list of regions (~matplotlib.path.Path), for each entry in 'country_map'\n",
    "\n",
    "        'country_map' is expected to provide columns 'lons' and 'lats',\n",
    "        providing lists of coordinates defining the respective country\n",
    "        as polygon(s). If 'country_map' has multiple lines, multiple\n",
    "        \"Paths\" will be created (for each line/polygon).\n",
    "        '''\n",
    "        from matplotlib.path import Path\n",
    "        import numpy as np\n",
    "        regions_path = []\n",
    "        for n, contour in enumerate(contours):\n",
    "            regions_path.append( Path( contour ) )\n",
    "        return regions_path\n",
    "\n",
    "    # Create vertex coordinates for each grid cell...\n",
    "    # (<0,0> is at the top left of the grid in this system)\n",
    "    ny,nx = img.shape\n",
    "    x, y = np.meshgrid(np.arange(nx), np.arange(ny))\n",
    "    x, y = x.flatten(), y.flatten()\n",
    "\n",
    "    grid = np.vstack((y,x)).T\n",
    "\n",
    "    mask = np.zeros(img.shape).astype(bool)\n",
    "    paths = define_regions(contours)\n",
    "    for path in paths:\n",
    "        _mask = path.contains_points(grid)\n",
    "        mask = mask + _mask.reshape((ny,nx))\n",
    "    return mask\n",
    "\n",
    "mask = create_mask(img_smooth,contours)"
   ]
  },
  {
   "cell_type": "code",
   "execution_count": null,
   "metadata": {},
   "outputs": [],
   "source": [
    "fig, ax = plt.subplots()\n",
    "ax.imshow(mask, cmap='gray')\n",
    "plt.show()"
   ]
  },
  {
   "cell_type": "code",
   "execution_count": null,
   "metadata": {},
   "outputs": [],
   "source": [
    "from skimage.feature import peak_local_max\n",
    "local_maxi = peak_local_max(img_smooth*mask, min_distance=2, exclude_border=False, indices=False)\n",
    "\n",
    "fig, ax = plt.subplots()\n",
    "ax.imshow(local_maxi, cmap=plt.cm.gray)\n",
    "\n",
    "for n, contour in enumerate(contours):\n",
    "    ax.plot(contour[:, 1], contour[:, 0], linewidth=2, color='red')\n",
    "\n",
    "ax.axis('image')\n",
    "ax.set_xticks([])\n",
    "ax.set_yticks([])\n",
    "plt.show()"
   ]
  },
  {
   "cell_type": "code",
   "execution_count": null,
   "metadata": {
    "collapsed": true
   },
   "outputs": [],
   "source": [
    "def region_growing(img,x,y,thresh):\n",
    "    \"\"\"\n",
    "    Segment using a Region Growing algorithm\n",
    "    \n",
    "    Input:\n",
    "     - img  ndarray : Image array (ndim=2)\n",
    "     - x        int : Seed x position\n",
    "     - y        int : Seed y position\n",
    "     - thresh float : Threshold value for limiting the grow\n",
    "    \n",
    "    Output:\n",
    "     - region  : Region grown around given 'x,y'\n",
    "    \n",
    "    ---\n",
    "    \"\"\"\n",
    "    from scipy import ndimage as ndi\n",
    "    \n",
    "    x_o = x\n",
    "    y_o = y\n",
    "    flag = True\n",
    "\n",
    "#     logging.debug(\"RG seed: X(%d) Y(%d)\",x_o,y_o)\n",
    "#     logging.debug(\"Threshold: %.2f\",thresh)\n",
    "\n",
    "    # Initialize region with the seed point\n",
    "    region = np.zeros(img.shape,dtype=np.bool)\n",
    "    reg_old = (region==flag)\n",
    "\n",
    "#     logging.debug(\"Image seed point value: %.2f\",img[y_o,x_o])\n",
    "    if (img[y_o,x_o] < thresh): return region\n",
    "    \n",
    "    region[y_o,x_o] = flag\n",
    "    reg_cur = (region==flag)\n",
    "\n",
    "    # For future (loop) morphological operations...\n",
    "    strct_elem = ndi.generate_binary_structure(2,2)\n",
    "\n",
    "    # While region stills changes (grow), do...\n",
    "    while not np.all(region == reg_old):\n",
    "        \n",
    "        reg_old = region.copy()\n",
    "\n",
    "        # Define pixel neighbours\n",
    "        tmp = ndi.binary_dilation(region,strct_elem, 1)\n",
    "        neigbors = tmp ^ region\n",
    "        inds = np.where(neigbors)\n",
    "\n",
    "        # Check for the new neighbors; do they fullfil requirements?\n",
    "        #region[np.where(region[inds]>=thresh)] = flag\n",
    "        for y_i,x_i in zip(*inds):\n",
    "            if (img[y_i,x_i] >= thresh):\n",
    "                region[y_i,x_i] = flag\n",
    "\n",
    "    return region"
   ]
  },
  {
   "cell_type": "code",
   "execution_count": null,
   "metadata": {},
   "outputs": [],
   "source": [
    "local_maxi = peak_local_max(img_smooth*mask, min_distance=2, exclude_border=False, indices=True)\n",
    "\n",
    "fig, ax = plt.subplots()\n",
    "img_reg = np.zeros(img.shape,dtype=int)\n",
    "for n,local_max in enumerate(local_maxi):\n",
    "    xy = local_maxi[n]\n",
    "    y,x = xy\n",
    "    reg = region_growing(img,x,y,th_mx+0.1)\n",
    "\n",
    "    _img = reg.astype(int) * n\n",
    "    _idx = np.where(reg)\n",
    "    img_reg[_idx] = _img[_idx]\n",
    "    \n",
    "_ = ax.imshow(img_reg)\n",
    "plt.show()"
   ]
  },
  {
   "cell_type": "code",
   "execution_count": null,
   "metadata": {
    "collapsed": true
   },
   "outputs": [],
   "source": [
    "img_mask = img*mask\n",
    "img_mask = equal(img_mask)\n",
    "img_mask_smooth = gaussian(img_mask,[1,1])"
   ]
  },
  {
   "cell_type": "code",
   "execution_count": null,
   "metadata": {},
   "outputs": [],
   "source": [
    "fig, axes = plt.subplots(ncols=2, figsize=(10, 3), sharex=False, sharey=False,\n",
    "                         subplot_kw={'adjustable': 'box-forced'})\n",
    "ax = axes.ravel()\n",
    "\n",
    "ax[0].imshow(img_mask_smooth, interpolation='nearest')\n",
    "ax[0].set_title('Image smooth')\n",
    "_ = imhist(img_mask_smooth,ax=ax[1])\n",
    "ax[1].set_title('Image smooth intensity histogram')\n",
    "\n",
    "fig.tight_layout()\n",
    "plt.show()"
   ]
  },
  {
   "cell_type": "code",
   "execution_count": null,
   "metadata": {
    "collapsed": true
   },
   "outputs": [],
   "source": [
    "local_maxi = peak_local_max(img_mask_smooth, exclude_border=False, indices=False)"
   ]
  },
  {
   "cell_type": "code",
   "execution_count": null,
   "metadata": {},
   "outputs": [],
   "source": [
    "fig, ax = plt.subplots()\n",
    "ax.imshow(local_maxi, cmap=plt.cm.gray)"
   ]
  },
  {
   "cell_type": "code",
   "execution_count": null,
   "metadata": {
    "collapsed": true
   },
   "outputs": [],
   "source": [
    "from scipy import ndimage as ndi\n",
    "from skimage.morphology import watershed\n",
    "from skimage.feature import peak_local_max\n",
    "# distance = ndi.distance_transform_edt(mask)\n",
    "# local_maxi = peak_local_max(distance, indices=False,labels=mask)\n",
    "markers = ndi.label(local_maxi)[0]\n",
    "labels = watershed(-img_mask_smooth, markers, mask=mask)"
   ]
  },
  {
   "cell_type": "code",
   "execution_count": null,
   "metadata": {},
   "outputs": [],
   "source": [
    "fig, axes = plt.subplots(ncols=4, figsize=(12, 3), sharex=True, sharey=True,\n",
    "                         subplot_kw={'adjustable': 'box-forced'})\n",
    "ax = axes.ravel()\n",
    "\n",
    "ax[0].imshow(img, cmap=plt.cm.gray, interpolation='nearest')\n",
    "ax[0].set_title('Image')\n",
    "\n",
    "ax[1].imshow(-img_mask_smooth, cmap=plt.cm.gray, interpolation='nearest')\n",
    "ax[1].set_title('Image smooth')\n",
    "\n",
    "ax[2].imshow(mask, cmap=plt.cm.gray, interpolation='nearest')\n",
    "ax[2].set_title('Overlapping objects')\n",
    "\n",
    "im = ax[3].imshow(labels, cmap=plt.cm.spectral, interpolation='nearest')\n",
    "ax[3].set_title('Separated objects')\n",
    "\n",
    "cax = fig.add_axes([0.91, 0.2, 0.01, 0.6])\n",
    "vals = np.unique(labels)\n",
    "fig.colorbar(im, cax=cax, ticks=vals)#,values=vals)\n",
    "\n",
    "for a in ax:\n",
    "    a.set_axis_off()\n",
    "\n",
    "# fig.tight_layout()\n",
    "plt.show()"
   ]
  },
  {
   "cell_type": "code",
   "execution_count": null,
   "metadata": {},
   "outputs": [],
   "source": [
    "fig, axes = plt.subplots(ncols=4, figsize=(12, 3), sharex=True, sharey=True,\n",
    "                         subplot_kw={'adjustable': 'box-forced'})\n",
    "ax = axes.ravel()\n",
    "\n",
    "_ = ax[0].imshow(img, cmap=plt.cm.gray, interpolation='nearest')\n",
    "ax[0].set_title('Image')\n",
    "\n",
    "_ = ax[1].imshow(-img_mask_smooth, cmap=plt.cm.gray, interpolation='nearest')\n",
    "ax[1].set_title('Image smooth')\n",
    "\n",
    "_ = ax[2].imshow(mask, cmap=plt.cm.gray, interpolation='nearest')\n",
    "ax[2].set_title('Overlapping objects')\n",
    "\n",
    "im = ax[3].imshow(img_reg, cmap=plt.cm.spectral, interpolation='nearest')\n",
    "ax[3].set_title('Separated objects')\n",
    "\n",
    "cax = fig.add_axes([0.91, 0.2, 0.01, 0.6])\n",
    "vals = np.unique(img_reg)\n",
    "# fig.colorbar(im, cax=cax, values=vals, ticks=vals)\n",
    "fig.colorbar(im, cax=cax, ticks=vals)\n",
    "\n",
    "for a in ax:\n",
    "    a.set_axis_off()\n",
    "\n",
    "# fig.tight_layout()\n",
    "plt.show()"
   ]
  },
  {
   "cell_type": "markdown",
   "metadata": {},
   "source": [
    "## Regions properties"
   ]
  },
  {
   "cell_type": "code",
   "execution_count": null,
   "metadata": {
    "collapsed": true
   },
   "outputs": [],
   "source": [
    "from skimage.measure import regionprops\n",
    "# reg_props = regionprops(img_reg,img_smooth)\n",
    "reg_props = regionprops(labels,img_smooth)\n",
    "\n",
    "\n",
    "d_props = {}\n",
    "l_props = []\n",
    "d2_props = {}\n",
    "l2_props = []\n",
    "for props in reg_props:\n",
    "    label = props.label\n",
    "    vals = []\n",
    "    vals2 = []\n",
    "    for prop in props:\n",
    "        val = props[prop]\n",
    "        if np.isscalar(val):\n",
    "            vals.append(val)\n",
    "            l_props.append(prop)\n",
    "        else:\n",
    "            if isinstance(val,np.ndarray):\n",
    "                val = val.shape\n",
    "            vals2.append(val)\n",
    "            l2_props.append(prop)\n",
    "    d_props[label] = vals\n",
    "    d2_props[label] = vals2\n",
    "\n",
    "index = l_props[:len(vals)]\n",
    "df = pandas.DataFrame(d_props,index=index)#.transpose()\n",
    "\n",
    "index = l2_props[:len(vals2)]\n",
    "df2 = pandas.DataFrame(d2_props,index=index)#.transpose()"
   ]
  },
  {
   "cell_type": "code",
   "execution_count": null,
   "metadata": {},
   "outputs": [],
   "source": [
    "df"
   ]
  },
  {
   "cell_type": "code",
   "execution_count": null,
   "metadata": {},
   "outputs": [],
   "source": [
    "print df2"
   ]
  },
  {
   "cell_type": "markdown",
   "metadata": {
    "collapsed": true
   },
   "source": [
    "### Erosion\n",
    "\n",
    "What about eroding the labels/regions? Instead of a cluster of pixels, I want a point or a line representing the object(s)."
   ]
  },
  {
   "cell_type": "code",
   "execution_count": null,
   "metadata": {},
   "outputs": [],
   "source": [
    "from skimage import morphology\n",
    "\n",
    "_img = img_reg.copy()\n",
    "\n",
    "lbls = list(np.unique(_img))\n",
    "lbls.sort()\n",
    "_ = lbls.pop(0)\n",
    "\n",
    "img_erod = np.zeros(_img.shape,dtype=int)\n",
    "for n in lbls:\n",
    "    _mask = np.zeros(_img.shape,dtype=int)\n",
    "    _mask[np.where(_img==n)] = 1\n",
    "#     _mask = morphology.binary_erosion(_mask, morphology.disk(1))\n",
    "#     _mask = morphology.medial_axis(_mask)\n",
    "    _mask = morphology.skeletonize(_mask)\n",
    "    img_erod += _mask\n",
    "\n",
    "fig,ax = plt.subplots()\n",
    "ax.imshow(img_erod)\n",
    "plt.show()"
   ]
  },
  {
   "cell_type": "code",
   "execution_count": null,
   "metadata": {
    "collapsed": true
   },
   "outputs": [],
   "source": []
  }
 ],
 "metadata": {
  "anaconda-cloud": {},
  "kernelspec": {
   "display_name": "Python 2",
   "language": "python",
   "name": "python2"
  },
  "language_info": {
   "codemirror_mode": {
    "name": "ipython",
    "version": 2
   },
   "file_extension": ".py",
   "mimetype": "text/x-python",
   "name": "python",
   "nbconvert_exporter": "python",
   "pygments_lexer": "ipython2",
   "version": "2.7.13"
  }
 },
 "nbformat": 4,
 "nbformat_minor": 1
}
